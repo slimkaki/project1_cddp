{
 "cells": [
  {
   "cell_type": "markdown",
   "metadata": {},
   "source": [
    "# Projeto 01"
   ]
  },
  {
   "cell_type": "markdown",
   "metadata": {},
   "source": [
    "## Nome: Rafael Almada"
   ]
  },
  {
   "cell_type": "markdown",
   "metadata": {},
   "source": [
    "### Com o aumento do IDH, o consumo de álcool e cigarro tende a cair?"
   ]
  },
  {
   "cell_type": "markdown",
   "metadata": {},
   "source": [
    "O IDH (Índice de Desenvolvimento Humano) é a forma como medimos o desenvolvimento humano em cada país, logo ele é calculado a partir de dados como a educação, expectativa de vida e o PIB per capita. Porém sabemos que além disso, muitas variáveis possuem uma correlação com o IDH, sendo assim impactam indiretamente em seu valor.\n",
    "\n",
    "O objetivo deste projeto é, por meio de uma análise descritiva de diversos Data Frames, verificar se com o aumento do IDH, o consumo de álcool e cigarro tende a diminuir.\n",
    "\n",
    "É importante ressaltar que as bases de dados usadas foram todas retiradas do site: https://www.gapminder.org/"
   ]
  },
  {
   "cell_type": "markdown",
   "metadata": {},
   "source": [
    "## Introdução"
   ]
  },
  {
   "cell_type": "markdown",
   "metadata": {},
   "source": [
    "Sabe-se que o consumo de álcool e cigarro é muito utilizado, sendo a dependencia química dos mesmos muito associada a tempos difíceis. Conhecemos histórias como a de Mário de Andrade, poeta e escritor brasileiro da primeira geração do modernismo no país. Ao ver o seu amado país sob uma ditadura (Estado Novo de Getúlio Vargas, pós-1937), aquilo que ele mais repugnava, sente como se tivesse falhado em sua missão. Um movimento que falava tanto de liberdade em tantos sentidos e em se assumir uma nacionalidade própria, o tal do \"Brasil brasileiro\". Assim, Mário passou a beber, transformou a bebida em sua fuga da  realidade, tristeza e melancolia recaíam sobre o mesmo. Até que em 1945, já alcoólatra há alguns anos, ele morre devido a um infarto do miocárdio, o que hoje sabemos que isso só aconteceu devido ao consumo excessivo de álcool.\n",
    "\n",
    "Já cigarros tem o mesmo peso negativo a uma pessoa, sendo no geral uma fuga ao stress. Seus efeitos são de prazer e satisfação. Sabemos também que o aumento do uso de cigarros se deve, em parte, a urbanização. Também sabemos que pode ser muito prejudicial a saúde se usado com frequencia e manter o hábito por anos.\n",
    "\n",
    "Dado isso, podemos associar o IDH a um sentimento de satisfação com o próprio país também, sendo assim um país com maior IDH possui \"menos problemas\" e por isso seria uma razão para, no decorrer do tempo, haver uma diminuição no uso dessas substâncias."
   ]
  },
  {
   "cell_type": "code",
   "execution_count": 1,
   "metadata": {},
   "outputs": [],
   "source": [
    "import pandas as pd\n",
    "import matplotlib.pyplot as plt\n",
    "\n",
    "% matplotlib inline"
   ]
  },
  {
   "cell_type": "code",
   "execution_count": 2,
   "metadata": {},
   "outputs": [],
   "source": [
    "alcool=pd.read_csv('alcohol_consumption.csv')\n",
    "GDPcapita=pd.read_csv('gdppercapita_us_inflation_adjusted.csv')\n",
    "IDH=pd.read_csv('hdi_human_development_index.csv')\n",
    "life=pd.read_csv('life_expectancy_years.csv')\n",
    "cigarro=pd.read_csv('smoking_adults_percent_of_population_over_age_15.csv') #singaro da cãnsir"
   ]
  },
  {
   "cell_type": "markdown",
   "metadata": {},
   "source": [
    "### Join dos DataFrames!"
   ]
  },
  {
   "cell_type": "markdown",
   "metadata": {},
   "source": [
    "Irei usar o ano de 2005 como referência, pois é o ano em comum entre os 3 dataframes!"
   ]
  },
  {
   "cell_type": "code",
   "execution_count": 3,
   "metadata": {
    "scrolled": true
   },
   "outputs": [],
   "source": [
    "GDP_2005=GDPcapita[['geo','2005']].copy()\n",
    "IDH_2005=IDH[['geo','2005']].copy()\n",
    "alc_2005=alcool[['geo','2005']].copy()\n",
    "cig_2005=cigarro[['geo','2005']].copy()"
   ]
  },
  {
   "cell_type": "code",
   "execution_count": 4,
   "metadata": {},
   "outputs": [],
   "source": [
    "IDH_idx=IDH_2005.set_index('geo')\n",
    "alc_idx=alc_2005.set_index('geo')\n",
    "cig_idx=cig_2005.set_index('geo')\n",
    "GDP_idx=GDP_2005.set_index('geo')"
   ]
  },
  {
   "cell_type": "code",
   "execution_count": 5,
   "metadata": {},
   "outputs": [
    {
     "data": {
      "text/html": [
       "<div>\n",
       "<style scoped>\n",
       "    .dataframe tbody tr th:only-of-type {\n",
       "        vertical-align: middle;\n",
       "    }\n",
       "\n",
       "    .dataframe tbody tr th {\n",
       "        vertical-align: top;\n",
       "    }\n",
       "\n",
       "    .dataframe thead th {\n",
       "        text-align: right;\n",
       "    }\n",
       "</style>\n",
       "<table border=\"1\" class=\"dataframe\">\n",
       "  <thead>\n",
       "    <tr style=\"text-align: right;\">\n",
       "      <th></th>\n",
       "      <th>2005_idh</th>\n",
       "      <th>2005_alc</th>\n",
       "      <th>2005_cig</th>\n",
       "      <th>2005_GDP</th>\n",
       "    </tr>\n",
       "    <tr>\n",
       "      <th>geo</th>\n",
       "      <th></th>\n",
       "      <th></th>\n",
       "      <th></th>\n",
       "      <th></th>\n",
       "    </tr>\n",
       "  </thead>\n",
       "  <tbody>\n",
       "    <tr>\n",
       "      <th>Albania</th>\n",
       "      <td>0.696</td>\n",
       "      <td>6.68</td>\n",
       "      <td>22.4</td>\n",
       "      <td>3190.0</td>\n",
       "    </tr>\n",
       "    <tr>\n",
       "      <th>Algeria</th>\n",
       "      <td>0.686</td>\n",
       "      <td>0.96</td>\n",
       "      <td>15.2</td>\n",
       "      <td>4270.0</td>\n",
       "    </tr>\n",
       "    <tr>\n",
       "      <th>Andorra</th>\n",
       "      <td>NaN</td>\n",
       "      <td>15.50</td>\n",
       "      <td>32.9</td>\n",
       "      <td>48800.0</td>\n",
       "    </tr>\n",
       "    <tr>\n",
       "      <th>Argentina</th>\n",
       "      <td>0.782</td>\n",
       "      <td>10.00</td>\n",
       "      <td>30.0</td>\n",
       "      <td>8520.0</td>\n",
       "    </tr>\n",
       "    <tr>\n",
       "      <th>Armenia</th>\n",
       "      <td>0.692</td>\n",
       "      <td>11.30</td>\n",
       "      <td>29.6</td>\n",
       "      <td>2570.0</td>\n",
       "    </tr>\n",
       "  </tbody>\n",
       "</table>\n",
       "</div>"
      ],
      "text/plain": [
       "           2005_idh  2005_alc  2005_cig  2005_GDP\n",
       "geo                                              \n",
       "Albania       0.696      6.68      22.4    3190.0\n",
       "Algeria       0.686      0.96      15.2    4270.0\n",
       "Andorra         NaN     15.50      32.9   48800.0\n",
       "Argentina     0.782     10.00      30.0    8520.0\n",
       "Armenia       0.692     11.30      29.6    2570.0"
      ]
     },
     "execution_count": 5,
     "metadata": {},
     "output_type": "execute_result"
    }
   ],
   "source": [
    "IDH_alc=IDH_idx.join(alc_idx, how='inner', lsuffix='_idh', rsuffix='_alc')\n",
    "IDH_cig=IDH_alc.join(cig_idx, how='inner', rsuffix='_cig')\n",
    "df=IDH_cig.join(GDP_idx, how='inner', lsuffix='_cig', rsuffix='_GDP')\n",
    "df.head() #dataframe pronto para a analise!"
   ]
  },
  {
   "cell_type": "code",
   "execution_count": null,
   "metadata": {},
   "outputs": [],
   "source": []
  }
 ],
 "metadata": {
  "kernelspec": {
   "display_name": "Python 3",
   "language": "python",
   "name": "python3"
  },
  "language_info": {
   "codemirror_mode": {
    "name": "ipython",
    "version": 3
   },
   "file_extension": ".py",
   "mimetype": "text/x-python",
   "name": "python",
   "nbconvert_exporter": "python",
   "pygments_lexer": "ipython3",
   "version": "3.6.4"
  }
 },
 "nbformat": 4,
 "nbformat_minor": 2
}
