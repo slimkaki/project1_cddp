{
 "cells": [
  {
   "cell_type": "markdown",
   "metadata": {},
   "source": [
    "# Projeto 01"
   ]
  },
  {
   "cell_type": "markdown",
   "metadata": {},
   "source": [
    "## Nome: Rafael Almada"
   ]
  },
  {
   "cell_type": "markdown",
   "metadata": {},
   "source": [
    "### Com o aumento do IDH, o consumo de álcool e cigarro tende a cair?"
   ]
  },
  {
   "cell_type": "markdown",
   "metadata": {},
   "source": [
    "O IDH (Índice de Desenvolvimento Humano) é a forma como medimos o desenvolvimento humano em cada país, logo ele é calculado a partir de dados como a educação, expectativa de vida e o PIB per capita. Porém sabemos que além disso, muitas variáveis possuem uma correlação com o IDH, sendo assim impactam indiretamente em seu valor.\n",
    "\n",
    "O objetivo deste projeto é, por meio de uma análise descritiva de diversos Data Frames, verificar se com o aumento do IDH, o consumo de álcool e cigarro tende a diminuir.\n",
    "\n",
    "É importante ressaltar que as bases de dados usadas foram todas retiradas do site: https://www.gapminder.org/"
   ]
  },
  {
   "cell_type": "markdown",
   "metadata": {},
   "source": [
    "## Introdução"
   ]
  },
  {
   "cell_type": "markdown",
   "metadata": {},
   "source": [
    "Sabe-se que o consumo de álcool e cigarro é muito utilizado, sendo a dependencia química dos mesmos muito associada a tempos difíceis. Conhecemos histórias como a de Mário de Andrade, poeta e escritor brasileiro da primeira geração do modernismo no país. Ao ver o seu amado país sob uma ditadura (Estado Novo de Getúlio Vargas, pós-1937), aquilo que ele mais repugnava, sente como se tivesse falhado em sua missão. Um movimento que falava tanto de liberdade em tantos sentidos e em se assumir uma nacionalidade própria, o tal do \"Brasil brasileiro\". Assim, Mário passou a beber, transformou a bebida em sua fuga da  realidade, tristeza e melancolia recaíam sobre o mesmo. Até que em 1945, já alcoólatra há alguns anos, ele morre devido a um infarto do miocárdio, o que hoje sabemos que isso só aconteceu devido ao consumo excessivo de álcool.\n",
    "\n",
    "Já cigarros tem o mesmo peso negativo a uma pessoa, sendo no geral uma fuga ao stress. Seus efeitos são de prazer e satisfação. Sabemos também que o aumento do uso de cigarros se deve, em parte, a urbanização. Também sabemos que pode ser muito prejudicial a saúde se usado com frequencia e manter o hábito por anos.\n",
    "\n",
    "Dado isso, podemos associar o IDH a um sentimento de satisfação com o próprio país também, sendo assim um país com maior IDH possui \"menos problemas\" e por isso seria uma razão para, no decorrer do tempo, haver uma diminuição no uso dessas substâncias."
   ]
  },
  {
   "cell_type": "code",
   "execution_count": 1,
   "metadata": {},
   "outputs": [],
   "source": [
    "import pandas as pd\n",
    "import matplotlib.pyplot as plt\n",
    "\n",
    "% matplotlib inline"
   ]
  },
  {
   "cell_type": "code",
   "execution_count": 2,
   "metadata": {},
   "outputs": [],
   "source": [
    "alcool=pd.read_csv('alcohol_consumption.csv')\n",
    "GDPcapita=pd.read_csv('gdppercapita_us_inflation_adjusted.csv')\n",
    "IDH=pd.read_csv('hdi_human_development_index.csv')\n",
    "life=pd.read_csv('life_expectancy_years.csv')\n",
    "cigarro=pd.read_csv('smoking_adults_percent_of_population_over_age_15.csv') #singaro da cãnsir"
   ]
  },
  {
   "cell_type": "markdown",
   "metadata": {},
   "source": [
    "### Join dos DataFrames!"
   ]
  },
  {
   "cell_type": "markdown",
   "metadata": {},
   "source": [
    "Irei usar o ano de 2005 como referência, pois é o ano em comum entre os 3 dataframes!"
   ]
  },
  {
   "cell_type": "code",
   "execution_count": 3,
   "metadata": {
    "scrolled": true
   },
   "outputs": [],
   "source": [
    "GDP_2005=GDPcapita[['geo','2005']].copy()\n",
    "IDH_2005=IDH[['geo','2005']].copy()\n",
    "alc_2005=alcool[['geo','2005']].copy()\n",
    "cig_2005=cigarro[['geo','2005']].copy()"
   ]
  },
  {
   "cell_type": "code",
   "execution_count": 4,
   "metadata": {},
   "outputs": [],
   "source": [
    "IDH_idx=IDH_2005.set_index('geo')\n",
    "alc_idx=alc_2005.set_index('geo')\n",
    "cig_idx=cig_2005.set_index('geo')\n",
    "GDP_idx=GDP_2005.set_index('geo')"
   ]
  },
  {
   "cell_type": "code",
   "execution_count": 5,
   "metadata": {},
   "outputs": [
    {
     "data": {
      "text/html": [
       "<div>\n",
       "<style>\n",
       "    .dataframe thead tr:only-child th {\n",
       "        text-align: right;\n",
       "    }\n",
       "\n",
       "    .dataframe thead th {\n",
       "        text-align: left;\n",
       "    }\n",
       "\n",
       "    .dataframe tbody tr th {\n",
       "        vertical-align: top;\n",
       "    }\n",
       "</style>\n",
       "<table border=\"1\" class=\"dataframe\">\n",
       "  <thead>\n",
       "    <tr style=\"text-align: right;\">\n",
       "      <th></th>\n",
       "      <th>2005_idh</th>\n",
       "      <th>2005_alc</th>\n",
       "      <th>2005_cig</th>\n",
       "      <th>2005_GDP</th>\n",
       "    </tr>\n",
       "    <tr>\n",
       "      <th>geo</th>\n",
       "      <th></th>\n",
       "      <th></th>\n",
       "      <th></th>\n",
       "      <th></th>\n",
       "    </tr>\n",
       "  </thead>\n",
       "  <tbody>\n",
       "    <tr>\n",
       "      <th>Albania</th>\n",
       "      <td>0.696</td>\n",
       "      <td>6.68</td>\n",
       "      <td>22.4</td>\n",
       "      <td>3190.0</td>\n",
       "    </tr>\n",
       "    <tr>\n",
       "      <th>Algeria</th>\n",
       "      <td>0.686</td>\n",
       "      <td>0.96</td>\n",
       "      <td>15.2</td>\n",
       "      <td>4270.0</td>\n",
       "    </tr>\n",
       "    <tr>\n",
       "      <th>Andorra</th>\n",
       "      <td>NaN</td>\n",
       "      <td>15.50</td>\n",
       "      <td>32.9</td>\n",
       "      <td>48800.0</td>\n",
       "    </tr>\n",
       "    <tr>\n",
       "      <th>Argentina</th>\n",
       "      <td>0.782</td>\n",
       "      <td>10.00</td>\n",
       "      <td>30.0</td>\n",
       "      <td>8520.0</td>\n",
       "    </tr>\n",
       "    <tr>\n",
       "      <th>Armenia</th>\n",
       "      <td>0.692</td>\n",
       "      <td>11.30</td>\n",
       "      <td>29.6</td>\n",
       "      <td>2570.0</td>\n",
       "    </tr>\n",
       "  </tbody>\n",
       "</table>\n",
       "</div>"
      ],
      "text/plain": [
       "           2005_idh  2005_alc  2005_cig  2005_GDP\n",
       "geo                                              \n",
       "Albania       0.696      6.68      22.4    3190.0\n",
       "Algeria       0.686      0.96      15.2    4270.0\n",
       "Andorra         NaN     15.50      32.9   48800.0\n",
       "Argentina     0.782     10.00      30.0    8520.0\n",
       "Armenia       0.692     11.30      29.6    2570.0"
      ]
     },
     "execution_count": 5,
     "metadata": {},
     "output_type": "execute_result"
    }
   ],
   "source": [
    "IDH_alc=IDH_idx.join(alc_idx, how='inner', lsuffix='_idh', rsuffix='_alc')\n",
    "IDH_cig=IDH_alc.join(cig_idx, how='inner', rsuffix='_cig')\n",
    "df=IDH_cig.join(GDP_idx, how='inner', lsuffix='_cig', rsuffix='_GDP')\n",
    "df.head() #dataframe pronto para a analise!"
   ]
  },
  {
   "cell_type": "markdown",
   "metadata": {},
   "source": [
    "### Início da análise descritiva dos dados"
   ]
  },
  {
   "cell_type": "markdown",
   "metadata": {},
   "source": [
    "Agora que já demos join nos dataframes, podemos começar nossa análise das variáveis e tirar alguns gráficos."
   ]
  },
  {
   "cell_type": "code",
   "execution_count": 6,
   "metadata": {},
   "outputs": [
    {
     "data": {
      "text/html": [
       "<div>\n",
       "<style>\n",
       "    .dataframe thead tr:only-child th {\n",
       "        text-align: right;\n",
       "    }\n",
       "\n",
       "    .dataframe thead th {\n",
       "        text-align: left;\n",
       "    }\n",
       "\n",
       "    .dataframe tbody tr th {\n",
       "        vertical-align: top;\n",
       "    }\n",
       "</style>\n",
       "<table border=\"1\" class=\"dataframe\">\n",
       "  <thead>\n",
       "    <tr style=\"text-align: right;\">\n",
       "      <th></th>\n",
       "      <th>2005_idh</th>\n",
       "      <th>2005_alc</th>\n",
       "      <th>2005_cig</th>\n",
       "      <th>2005_GDP</th>\n",
       "    </tr>\n",
       "  </thead>\n",
       "  <tbody>\n",
       "    <tr>\n",
       "      <th>count</th>\n",
       "      <td>124.000000</td>\n",
       "      <td>124.000000</td>\n",
       "      <td>125.000000</td>\n",
       "      <td>125.000000</td>\n",
       "    </tr>\n",
       "    <tr>\n",
       "      <th>mean</th>\n",
       "      <td>0.680129</td>\n",
       "      <td>7.214758</td>\n",
       "      <td>24.670400</td>\n",
       "      <td>14185.984000</td>\n",
       "    </tr>\n",
       "    <tr>\n",
       "      <th>std</th>\n",
       "      <td>0.162990</td>\n",
       "      <td>4.881280</td>\n",
       "      <td>10.156319</td>\n",
       "      <td>19499.062299</td>\n",
       "    </tr>\n",
       "    <tr>\n",
       "      <th>min</th>\n",
       "      <td>0.303000</td>\n",
       "      <td>0.060000</td>\n",
       "      <td>4.300000</td>\n",
       "      <td>233.000000</td>\n",
       "    </tr>\n",
       "    <tr>\n",
       "      <th>25%</th>\n",
       "      <td>0.570000</td>\n",
       "      <td>3.172500</td>\n",
       "      <td>15.100000</td>\n",
       "      <td>1380.000000</td>\n",
       "    </tr>\n",
       "    <tr>\n",
       "      <th>50%</th>\n",
       "      <td>0.711000</td>\n",
       "      <td>6.705000</td>\n",
       "      <td>24.900000</td>\n",
       "      <td>4650.000000</td>\n",
       "    </tr>\n",
       "    <tr>\n",
       "      <th>75%</th>\n",
       "      <td>0.807000</td>\n",
       "      <td>11.025000</td>\n",
       "      <td>31.900000</td>\n",
       "      <td>18000.000000</td>\n",
       "    </tr>\n",
       "    <tr>\n",
       "      <th>max</th>\n",
       "      <td>0.931000</td>\n",
       "      <td>18.200000</td>\n",
       "      <td>51.800000</td>\n",
       "      <td>101000.000000</td>\n",
       "    </tr>\n",
       "  </tbody>\n",
       "</table>\n",
       "</div>"
      ],
      "text/plain": [
       "         2005_idh    2005_alc    2005_cig       2005_GDP\n",
       "count  124.000000  124.000000  125.000000     125.000000\n",
       "mean     0.680129    7.214758   24.670400   14185.984000\n",
       "std      0.162990    4.881280   10.156319   19499.062299\n",
       "min      0.303000    0.060000    4.300000     233.000000\n",
       "25%      0.570000    3.172500   15.100000    1380.000000\n",
       "50%      0.711000    6.705000   24.900000    4650.000000\n",
       "75%      0.807000   11.025000   31.900000   18000.000000\n",
       "max      0.931000   18.200000   51.800000  101000.000000"
      ]
     },
     "execution_count": 6,
     "metadata": {},
     "output_type": "execute_result"
    }
   ],
   "source": [
    "df.describe()"
   ]
  },
  {
   "cell_type": "code",
   "execution_count": 7,
   "metadata": {},
   "outputs": [],
   "source": [
    "def Assimetria(dado): #Cálculo do coeficiente de assimetria de Bowley\n",
    "    Q1=dado.quantile(0.25)\n",
    "    Md=dado.quantile(0.5)\n",
    "    Q3=dado.quantile(0.75)\n",
    "    gb=((Q3-Md)-(Md-Q1))/(Q3-Q1)\n",
    "    return gb"
   ]
  },
  {
   "cell_type": "code",
   "execution_count": 8,
   "metadata": {},
   "outputs": [
    {
     "name": "stdout",
     "output_type": "stream",
     "text": [
      "Coeficiente de assimetria de Bowley (IDH): -0.1899\n",
      "Coeficiente de assimetria de Bowley (PIB): 0.6065\n",
      "Coeficiente de assimetria de Bowley (Álcool): 0.1003\n",
      "Coeficiente de assimetria de Bowley (Cigarro): -0.1667\n"
     ]
    }
   ],
   "source": [
    "gb_idh=Assimetria(df['2005_idh'])\n",
    "gb_gdp=Assimetria(df['2005_GDP'])\n",
    "gb_alc=Assimetria(df['2005_alc'])\n",
    "gb_cig=Assimetria(df['2005_cig'])\n",
    "lista_gb={'IDH': gb_idh, 'PIB': gb_gdp, 'Álcool': gb_alc, 'Cigarro': gb_cig}\n",
    "\n",
    "for i in lista_gb:\n",
    "    print('Coeficiente de assimetria de Bowley ({0}): {1:.4f}'.format(i, lista_gb[i]))"
   ]
  },
  {
   "cell_type": "code",
   "execution_count": 9,
   "metadata": {},
   "outputs": [
    {
     "data": {
      "image/png": "[encoded data removed]",
      "text/plain": [
       "<matplotlib.figure.Figure at 0xbe50af0>"
      ]
     },
     "metadata": {},
     "output_type": "display_data"
    }
   ],
   "source": [
    "fig=plt.figure(figsize=(10, 10))\n",
    "plt.subplot(221)\n",
    "df['2005_idh'].plot(kind='box')\n",
    "plt.title('IDH em 2005')\n",
    "plt.ylabel('(em valores de IDH)')\n",
    "\n",
    "plt.subplot(222)\n",
    "df['2005_GDP'].plot(kind='box')\n",
    "plt.title('PIB em 2005')\n",
    "plt.ylabel('(em dólares)')\n",
    "\n",
    "plt.subplot(223)\n",
    "df['2005_alc'].plot(kind='box')\n",
    "plt.title('Consumo médio de álcool em 2005')\n",
    "plt.ylabel('(em litros de álcool per capita)')\n",
    "\n",
    "plt.subplot(224)\n",
    "df['2005_cig'].plot(kind='box')\n",
    "plt.title('Consumo médio de cigarros em 2005')\n",
    "plt.ylabel('(em cigarros per capita)')\n",
    "\n",
    "plt.tight_layout()\n",
    "plt.show()"
   ]
  },
  {
   "cell_type": "markdown",
   "metadata": {},
   "source": [
    "Os gráficos boxplot nos apresentam a distribuição em questão e por isso são muito úteis para variáveis quantitativas. No caso todas as distribuições são pelo menos um pouco assimétricas para um lado. Porém o consumo de álcool, IDH e consumo de cigarros possuem distribuições quase que simétricas e por isso podemos considerar elas como tal (dado que não existem outliers e o coeficiente de Bowley é muito próximo do zero), mas o PIB per capita, devido ao fato de estarmos estudando todos os países no mesmo gráfico, percebemos que há muita desigualdade na posse de dinheiro entre os países, a maior prova disso é a mediana ser 3 vezes menor que a média, sendo uma assimetria para a direita ou positiva."
   ]
  },
  {
   "cell_type": "code",
   "execution_count": 10,
   "metadata": {},
   "outputs": [
    {
     "data": {
      "text/plain": [
       "<matplotlib.figure.Figure at 0xbe294d0>"
      ]
     },
     "metadata": {},
     "output_type": "display_data"
    },
    {
     "data": {
      "image/png": "[encoded data removed]",
      "text/plain": [
       "<matplotlib.figure.Figure at 0xbe50810>"
      ]
     },
     "metadata": {},
     "output_type": "display_data"
    },
    {
     "data": {
      "image/png": "[encoded data removed]",
      "text/plain": [
       "<matplotlib.figure.Figure at 0xc0f5d30>"
      ]
     },
     "metadata": {},
     "output_type": "display_data"
    }
   ],
   "source": [
    "fig=plt.figure(figsize=(10, 10))\n",
    "\n",
    "#plt.subplot(111)\n",
    "df.plot.scatter(x=\"2005_alc\", y='2005_idh', loglog=True)\n",
    "plt.title('Scatterplot Alcool x IDH')\n",
    "\n",
    "#plt.subplot(111)\n",
    "df.plot.scatter(x=\"2005_cig\", y='2005_idh', loglog=True)\n",
    "plt.title('Scatterplot Cigarro x IDH')\n",
    "\n",
    "plt.tight_layout()\n",
    "plt.show()"
   ]
  },
  {
   "cell_type": "code",
   "execution_count": 13,
   "metadata": {},
   "outputs": [
    {
     "data": {
      "text/html": [
       "<div>\n",
       "<style>\n",
       "    .dataframe thead tr:only-child th {\n",
       "        text-align: right;\n",
       "    }\n",
       "\n",
       "    .dataframe thead th {\n",
       "        text-align: left;\n",
       "    }\n",
       "\n",
       "    .dataframe tbody tr th {\n",
       "        vertical-align: top;\n",
       "    }\n",
       "</style>\n",
       "<table border=\"1\" class=\"dataframe\">\n",
       "  <thead>\n",
       "    <tr style=\"text-align: right;\">\n",
       "      <th></th>\n",
       "      <th>2005_idh</th>\n",
       "      <th>2005_alc</th>\n",
       "      <th>2005_cig</th>\n",
       "      <th>2005_GDP</th>\n",
       "    </tr>\n",
       "  </thead>\n",
       "  <tbody>\n",
       "    <tr>\n",
       "      <th>2005_idh</th>\n",
       "      <td>1.000000</td>\n",
       "      <td>0.522197</td>\n",
       "      <td>0.573793</td>\n",
       "      <td>0.704169</td>\n",
       "    </tr>\n",
       "    <tr>\n",
       "      <th>2005_alc</th>\n",
       "      <td>0.522197</td>\n",
       "      <td>1.000000</td>\n",
       "      <td>0.510280</td>\n",
       "      <td>0.400848</td>\n",
       "    </tr>\n",
       "    <tr>\n",
       "      <th>2005_cig</th>\n",
       "      <td>0.573793</td>\n",
       "      <td>0.510280</td>\n",
       "      <td>1.000000</td>\n",
       "      <td>0.286549</td>\n",
       "    </tr>\n",
       "    <tr>\n",
       "      <th>2005_GDP</th>\n",
       "      <td>0.704169</td>\n",
       "      <td>0.400848</td>\n",
       "      <td>0.286549</td>\n",
       "      <td>1.000000</td>\n",
       "    </tr>\n",
       "  </tbody>\n",
       "</table>\n",
       "</div>"
      ],
      "text/plain": [
       "          2005_idh  2005_alc  2005_cig  2005_GDP\n",
       "2005_idh  1.000000  0.522197  0.573793  0.704169\n",
       "2005_alc  0.522197  1.000000  0.510280  0.400848\n",
       "2005_cig  0.573793  0.510280  1.000000  0.286549\n",
       "2005_GDP  0.704169  0.400848  0.286549  1.000000"
      ]
     },
     "execution_count": 13,
     "metadata": {},
     "output_type": "execute_result"
    }
   ],
   "source": [
    "df.corr(method='pearson') #Correlação entre as colunas"
   ]
  },
  {
   "cell_type": "code",
   "execution_count": null,
   "metadata": {},
   "outputs": [],
   "source": []
  }
 ],
 "metadata": {
  "kernelspec": {
   "display_name": "Python 3",
   "language": "python",
   "name": "python3"
  },
  "language_info": {
   "codemirror_mode": {
    "name": "ipython",
    "version": 3
   },
   "file_extension": ".py",
   "mimetype": "text/x-python",
   "name": "python",
   "nbconvert_exporter": "python",
   "pygments_lexer": "ipython3",
   "version": "3.6.0"
  }
 },
 "nbformat": 4,
 "nbformat_minor": 2
}
