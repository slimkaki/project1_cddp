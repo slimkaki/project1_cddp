{
 "cells": [
  {
   "cell_type": "markdown",
   "metadata": {},
   "source": [
    "# Projeto 01"
   ]
  },
  {
   "cell_type": "markdown",
   "metadata": {},
   "source": [
    "## Nome: Rafael Almada"
   ]
  },
  {
   "cell_type": "markdown",
   "metadata": {},
   "source": [
    "### Com o aumento do IDH, o consumo de álcool e cigarro tende a cair?"
   ]
  },
  {
   "cell_type": "markdown",
   "metadata": {},
   "source": [
    "O IDH (Índice de Desenvolvimento Humano) é a forma como medimos o desenvolvimento humano em cada país, logo ele é calculado a partir de dados como a educação, expectativa de vida e o PIB per capita. Porém sabemos que além disso, muitas variáveis possuem uma correlação com o IDH, sendo assim impactam indiretamente em seu valor.\n",
    "\n",
    "O objetivo deste projeto é, por meio de uma análise descritiva de diversos Data Frames, verificar se com o aumento do IDH, o consumo de álcool e cigarro tende a diminuir.\n",
    "\n",
    "É importante ressaltar que as bases de dados usadas foram todas retiradas do site: https://www.gapminder.org/"
   ]
  },
  {
   "cell_type": "markdown",
   "metadata": {},
   "source": [
    "## Introdução"
   ]
  },
  {
   "cell_type": "markdown",
   "metadata": {},
   "source": [
    "Sabe-se que o consumo de álcool e cigarro é muito utilizado, sendo a dependencia química dos mesmos muito associada a tempos difíceis. Conhecemos histórias como a de Mário de Andrade, poeta e escritor brasileiro da primeira geração do modernismo no país. Ao ver o seu amado país sob uma ditadura (Estado Novo de Getúlio Vargas, pós-1937), aquilo que ele mais repugnava, sente como se tivesse falhado em sua missão. Um movimento que falava tanto de liberdade em tantos sentidos e em se assumir uma nacionalidade própria, o tal do \"Brasil brasileiro\". Assim, Mário passou a beber, transformou a bebida em sua fuga da  realidade, tristeza e melancolia recaíam sobre o mesmo. Até que em 1945, já alcoólatra há alguns anos, ele morre devido a um infarto do miocárdio, o que hoje sabemos que isso só aconteceu devido ao consumo excessivo de álcool.\n",
    "\n",
    "Já cigarros tem o mesmo peso negativo a uma pessoa, sendo no geral uma fuga ao stress. Seus efeitos são de prazer e satisfação. Sabemos também que o aumento do uso de cigarros se deve, em parte, a urbanização. Também sabemos que pode ser muito prejudicial a saúde se usado com frequencia e manter o hábito por anos.\n",
    "\n",
    "Dado isso, podemos associar o IDH a um sentimento de satisfação com o próprio país também, sendo assim um país com maior IDH possui \"menos problemas\" e por isso seria uma razão para, no decorrer do tempo, haver uma diminuição no uso dessas substâncias."
   ]
  },
  {
   "cell_type": "code",
   "execution_count": 2,
   "metadata": {},
   "outputs": [],
   "source": [
    "import pandas as pd\n",
    "import matplotlib.pyplot as plt\n",
    "\n",
    "% matplotlib inline"
   ]
  },
  {
   "cell_type": "code",
   "execution_count": 3,
   "metadata": {},
   "outputs": [],
   "source": [
    "alcool=pd.read_csv('alcohol_consumption.csv')\n",
    "GDPcapita=pd.read_csv('gdppercapita_us_inflation_adjusted.csv')\n",
    "IDH=pd.read_csv('hdi_human_development_index.csv')\n",
    "life=pd.read_csv('life_expectancy_years.csv')\n",
    "cigarro=pd.read_csv('smoking_adults_percent_of_population_over_age_15.csv') #singaro da cãnsir"
   ]
  },
  {
   "cell_type": "markdown",
   "metadata": {},
   "source": [
    "### Join dos DataFrames!"
   ]
  },
  {
   "cell_type": "markdown",
   "metadata": {},
   "source": [
    "Irei usar o ano de 2005 como referência, pois é o ano em comum entre os 3 dataframes!"
   ]
  },
  {
   "cell_type": "code",
   "execution_count": 4,
   "metadata": {
    "scrolled": true
   },
   "outputs": [],
   "source": [
    "GDP_2005=GDPcapita[['geo','2005']].copy()\n",
    "IDH_2005=IDH[['geo','2005']].copy()\n",
    "alc_2005=alcool[['geo','2005']].copy()\n",
    "cig_2005=cigarro[['geo','2005']].copy()"
   ]
  },
  {
   "cell_type": "code",
   "execution_count": 5,
   "metadata": {},
   "outputs": [],
   "source": [
    "IDH_idx=IDH_2005.set_index('geo')\n",
    "alc_idx=alc_2005.set_index('geo')\n",
    "cig_idx=cig_2005.set_index('geo')\n",
    "GDP_idx=GDP_2005.set_index('geo')"
   ]
  },
  {
   "cell_type": "code",
   "execution_count": 6,
   "metadata": {},
   "outputs": [
    {
     "data": {
      "text/html": [
       "<div>\n",
       "<style>\n",
       "    .dataframe thead tr:only-child th {\n",
       "        text-align: right;\n",
       "    }\n",
       "\n",
       "    .dataframe thead th {\n",
       "        text-align: left;\n",
       "    }\n",
       "\n",
       "    .dataframe tbody tr th {\n",
       "        vertical-align: top;\n",
       "    }\n",
       "</style>\n",
       "<table border=\"1\" class=\"dataframe\">\n",
       "  <thead>\n",
       "    <tr style=\"text-align: right;\">\n",
       "      <th></th>\n",
       "      <th>2005_idh</th>\n",
       "      <th>2005_alc</th>\n",
       "      <th>2005_cig</th>\n",
       "      <th>2005_GDP</th>\n",
       "    </tr>\n",
       "    <tr>\n",
       "      <th>geo</th>\n",
       "      <th></th>\n",
       "      <th></th>\n",
       "      <th></th>\n",
       "      <th></th>\n",
       "    </tr>\n",
       "  </thead>\n",
       "  <tbody>\n",
       "    <tr>\n",
       "      <th>Albania</th>\n",
       "      <td>0.696</td>\n",
       "      <td>6.68</td>\n",
       "      <td>22.4</td>\n",
       "      <td>3190.0</td>\n",
       "    </tr>\n",
       "    <tr>\n",
       "      <th>Algeria</th>\n",
       "      <td>0.686</td>\n",
       "      <td>0.96</td>\n",
       "      <td>15.2</td>\n",
       "      <td>4270.0</td>\n",
       "    </tr>\n",
       "    <tr>\n",
       "      <th>Andorra</th>\n",
       "      <td>NaN</td>\n",
       "      <td>15.50</td>\n",
       "      <td>32.9</td>\n",
       "      <td>48800.0</td>\n",
       "    </tr>\n",
       "    <tr>\n",
       "      <th>Argentina</th>\n",
       "      <td>0.782</td>\n",
       "      <td>10.00</td>\n",
       "      <td>30.0</td>\n",
       "      <td>8520.0</td>\n",
       "    </tr>\n",
       "    <tr>\n",
       "      <th>Armenia</th>\n",
       "      <td>0.692</td>\n",
       "      <td>11.30</td>\n",
       "      <td>29.6</td>\n",
       "      <td>2570.0</td>\n",
       "    </tr>\n",
       "  </tbody>\n",
       "</table>\n",
       "</div>"
      ],
      "text/plain": [
       "           2005_idh  2005_alc  2005_cig  2005_GDP\n",
       "geo                                              \n",
       "Albania       0.696      6.68      22.4    3190.0\n",
       "Algeria       0.686      0.96      15.2    4270.0\n",
       "Andorra         NaN     15.50      32.9   48800.0\n",
       "Argentina     0.782     10.00      30.0    8520.0\n",
       "Armenia       0.692     11.30      29.6    2570.0"
      ]
     },
     "execution_count": 6,
     "metadata": {},
     "output_type": "execute_result"
    }
   ],
   "source": [
    "IDH_alc=IDH_idx.join(alc_idx, how='inner', lsuffix='_idh', rsuffix='_alc')\n",
    "IDH_cig=IDH_alc.join(cig_idx, how='inner', rsuffix='_cig')\n",
    "df=IDH_cig.join(GDP_idx, how='inner', lsuffix='_cig', rsuffix='_GDP')\n",
    "df.head() #dataframe pronto para a analise!"
   ]
  },
  {
   "cell_type": "markdown",
   "metadata": {},
   "source": [
    "### Início da análise descritiva dos dados"
   ]
  },
  {
   "cell_type": "markdown",
   "metadata": {},
   "source": [
    "Agora que já demos join nos dataframes, podemos começar nossa análise das variáveis e tirar alguns gráficos."
   ]
  },
  {
   "cell_type": "code",
   "execution_count": 7,
   "metadata": {},
   "outputs": [
    {
     "data": {
      "text/html": [
       "<div>\n",
       "<style>\n",
       "    .dataframe thead tr:only-child th {\n",
       "        text-align: right;\n",
       "    }\n",
       "\n",
       "    .dataframe thead th {\n",
       "        text-align: left;\n",
       "    }\n",
       "\n",
       "    .dataframe tbody tr th {\n",
       "        vertical-align: top;\n",
       "    }\n",
       "</style>\n",
       "<table border=\"1\" class=\"dataframe\">\n",
       "  <thead>\n",
       "    <tr style=\"text-align: right;\">\n",
       "      <th></th>\n",
       "      <th>2005_idh</th>\n",
       "      <th>2005_alc</th>\n",
       "      <th>2005_cig</th>\n",
       "      <th>2005_GDP</th>\n",
       "    </tr>\n",
       "  </thead>\n",
       "  <tbody>\n",
       "    <tr>\n",
       "      <th>count</th>\n",
       "      <td>124.000000</td>\n",
       "      <td>124.000000</td>\n",
       "      <td>125.000000</td>\n",
       "      <td>125.000000</td>\n",
       "    </tr>\n",
       "    <tr>\n",
       "      <th>mean</th>\n",
       "      <td>0.680129</td>\n",
       "      <td>7.214758</td>\n",
       "      <td>24.670400</td>\n",
       "      <td>14185.984000</td>\n",
       "    </tr>\n",
       "    <tr>\n",
       "      <th>std</th>\n",
       "      <td>0.162990</td>\n",
       "      <td>4.881280</td>\n",
       "      <td>10.156319</td>\n",
       "      <td>19499.062299</td>\n",
       "    </tr>\n",
       "    <tr>\n",
       "      <th>min</th>\n",
       "      <td>0.303000</td>\n",
       "      <td>0.060000</td>\n",
       "      <td>4.300000</td>\n",
       "      <td>233.000000</td>\n",
       "    </tr>\n",
       "    <tr>\n",
       "      <th>25%</th>\n",
       "      <td>0.570000</td>\n",
       "      <td>3.172500</td>\n",
       "      <td>15.100000</td>\n",
       "      <td>1380.000000</td>\n",
       "    </tr>\n",
       "    <tr>\n",
       "      <th>50%</th>\n",
       "      <td>0.711000</td>\n",
       "      <td>6.705000</td>\n",
       "      <td>24.900000</td>\n",
       "      <td>4650.000000</td>\n",
       "    </tr>\n",
       "    <tr>\n",
       "      <th>75%</th>\n",
       "      <td>0.807000</td>\n",
       "      <td>11.025000</td>\n",
       "      <td>31.900000</td>\n",
       "      <td>18000.000000</td>\n",
       "    </tr>\n",
       "    <tr>\n",
       "      <th>max</th>\n",
       "      <td>0.931000</td>\n",
       "      <td>18.200000</td>\n",
       "      <td>51.800000</td>\n",
       "      <td>101000.000000</td>\n",
       "    </tr>\n",
       "  </tbody>\n",
       "</table>\n",
       "</div>"
      ],
      "text/plain": [
       "         2005_idh    2005_alc    2005_cig       2005_GDP\n",
       "count  124.000000  124.000000  125.000000     125.000000\n",
       "mean     0.680129    7.214758   24.670400   14185.984000\n",
       "std      0.162990    4.881280   10.156319   19499.062299\n",
       "min      0.303000    0.060000    4.300000     233.000000\n",
       "25%      0.570000    3.172500   15.100000    1380.000000\n",
       "50%      0.711000    6.705000   24.900000    4650.000000\n",
       "75%      0.807000   11.025000   31.900000   18000.000000\n",
       "max      0.931000   18.200000   51.800000  101000.000000"
      ]
     },
     "execution_count": 7,
     "metadata": {},
     "output_type": "execute_result"
    }
   ],
   "source": [
    "df.describe()"
   ]
  },
  {
   "cell_type": "code",
   "execution_count": 8,
   "metadata": {},
   "outputs": [],
   "source": [
    "def Assimetria(dado): #Cálculo do coeficiente de assimetria de Bowley\n",
    "    Q1=dado.quantile(0.25)\n",
    "    Md=dado.quantile(0.5)\n",
    "    Q3=dado.quantile(0.75)\n",
    "    gb=((Q3-Md)-(Md-Q1))/(Q3-Q1)\n",
    "    return gb"
   ]
  },
  {
   "cell_type": "code",
   "execution_count": 9,
   "metadata": {},
   "outputs": [
    {
     "name": "stdout",
     "output_type": "stream",
     "text": [
      "Coeficiente de assimetria de Bowley (IDH): -0.1899\n",
      "Coeficiente de assimetria de Bowley (PIB): 0.6065\n",
      "Coeficiente de assimetria de Bowley (Álcool): 0.1003\n",
      "Coeficiente de assimetria de Bowley (Cigarro): -0.1667\n"
     ]
    }
   ],
   "source": [
    "gb_idh=Assimetria(df['2005_idh'])\n",
    "gb_gdp=Assimetria(df['2005_GDP'])\n",
    "gb_alc=Assimetria(df['2005_alc'])\n",
    "gb_cig=Assimetria(df['2005_cig'])\n",
    "lista_gb={'IDH': gb_idh, 'PIB': gb_gdp, 'Álcool': gb_alc, 'Cigarro': gb_cig}\n",
    "\n",
    "for i in lista_gb:\n",
    "    print('Coeficiente de assimetria de Bowley ({0}): {1:.4f}'.format(i, lista_gb[i]))"
   ]
  },
  {
   "cell_type": "code",
   "execution_count": 10,
   "metadata": {},
   "outputs": [
    {
     "data": {
      "image/png": "[encoded data removed]",
      "text/plain": [
       "<matplotlib.figure.Figure at 0xb5ff910>"
      ]
     },
     "metadata": {},
     "output_type": "display_data"
    }
   ],
   "source": [
    "fig=plt.figure(figsize=(10, 10))\n",
    "plt.subplot(221)\n",
    "df['2005_idh'].plot(kind='box')\n",
    "plt.title('IDH em 2005')\n",
    "plt.ylabel('(em valores de IDH)')\n",
    "\n",
    "plt.subplot(222)\n",
    "df['2005_GDP'].plot(kind='box')\n",
    "plt.title('PIB em 2005')\n",
    "plt.ylabel('(em dólares)')\n",
    "\n",
    "plt.subplot(223)\n",
    "df['2005_alc'].plot(kind='box')\n",
    "plt.title('Consumo médio de álcool em 2005')\n",
    "plt.ylabel('(em litros de álcool per capita)')\n",
    "\n",
    "plt.subplot(224)\n",
    "df['2005_cig'].plot(kind='box')\n",
    "plt.title('Consumo médio de cigarros em 2005')\n",
    "plt.ylabel('(em cigarros per capita)')\n",
    "\n",
    "plt.tight_layout()\n",
    "plt.show()"
   ]
  },
  {
   "cell_type": "markdown",
   "metadata": {},
   "source": [
    "Os gráficos boxplot nos apresentam a distribuição em questão e por isso são muito úteis para variáveis quantitativas. No caso todas as distribuições são pelo menos um pouco assimétricas para um lado. Porém o consumo de álcool, IDH e consumo de cigarros possuem distribuições quase que simétricas e por isso podemos considerar elas como tal (dado que não existem outliers e o coeficiente de Bowley é muito próximo do zero), mas o PIB per capita, devido ao fato de estarmos estudando todos os países no mesmo gráfico, percebemos que há muita desigualdade na posse de dinheiro entre os países, a maior prova disso é a mediana ser 3 vezes menor que a média, sendo uma assimetria para a direita ou positiva."
   ]
  },
  {
   "cell_type": "code",
   "execution_count": 11,
   "metadata": {},
   "outputs": [
    {
     "name": "stdout",
     "output_type": "stream",
     "text": [
      "Correlação entre Álcool e IDH: 0.522197\n",
      "Correlação entre Cigarro e IDH: 0.573793\n"
     ]
    }
   ],
   "source": [
    "Corr_A=df.corr(method='pearson')['2005_alc']['2005_idh'] #Correlação entre as colunas Álcool e IDH\n",
    "Corr_C=df.corr(method='pearson')['2005_cig']['2005_idh'] #Correlação entre as colunas Cigarro e IDH\n",
    "\n",
    "print('Correlação entre Álcool e IDH: {0:.6f}'.format(Corr_A))\n",
    "print('Correlação entre Cigarro e IDH: {0:.6f}'.format(Corr_C))"
   ]
  },
  {
   "cell_type": "markdown",
   "metadata": {},
   "source": [
    "Para podermos ter certeza de que nossa análise faz algum sentido, devemos analisar a correlação entre as variáveis em questão. Como no caso quero saber se o consumo de álcool e cigarros interferem no valor do IDH, devo verificar se a correlação entre 'Álcool x IDH' e 'Cigarro x IDH' é diferente de 0.\n",
    "\n",
    "No caso, percebemos na célula acima que ambas são correlações positivas e com isso provamos que essas taxas interferem sim no IDH. Mas, para uma melhor análise, vamos analisar graficamente o que está acontecendo com o auxílio de um gráfico de dispersão ou scatterplot."
   ]
  },
  {
   "cell_type": "code",
   "execution_count": 14,
   "metadata": {},
   "outputs": [
    {
     "name": "stdout",
     "output_type": "stream",
     "text": [
      "Reta 1 (IDH x Álcool)\n",
      "Ajuste linear entre X3 e X4:\n",
      "Coeficiente linear: -3.3285478967574686\n",
      "Coeficiente angular: 15.501920166926652\n",
      "----------------------------------------\n",
      "Reta 2 (IDH x Cigarro)\n",
      "Ajuste linear entre X3 e X4:\n",
      "Coeficiente linear: 0.31931508926335184\n",
      "Coeficiente angular: 35.80362512961659\n",
      "----------------------------------------\n"
     ]
    },
    {
     "data": {
      "image/png": "[encoded data removed]",
      "text/plain": [
       "<matplotlib.figure.Figure at 0xc7ef5f0>"
      ]
     },
     "metadata": {},
     "output_type": "display_data"
    }
   ],
   "source": [
    "#Utilizarei da função elaborada pelo professor nessa parte\n",
    "#Função do professor retirada de: https://pastebin.com/0KcDyqKq\n",
    "#A partir da função, a otimizei para uma melhor visualização de dois gráficos em uma só célula\n",
    "def retas(dados_x1, dados_y1, eixo_x1, eixo_y1, title1, dados_x2, dados_y2, eixo_x2, eixo_y2, title2):    \n",
    "    a1 = dados_y1.cov(dados_x1) / dados_x1.var()\n",
    "    b1 = dados_y1.mean() - a1*dados_x1.mean()\n",
    "    \n",
    "    a2 = dados_y2.cov(dados_x2) / dados_x2.var()\n",
    "    b2 = dados_y2.mean() - a2*dados_x2.mean()\n",
    "    \n",
    "    print('Reta 1 ({0})'.format(title1))\n",
    "    print('Ajuste linear entre X3 e X4:')\n",
    "    print('Coeficiente linear:', b1)\n",
    "    print('Coeficiente angular:', a1)\n",
    "    print('-'*40)\n",
    "    print('Reta 2 ({0})'.format(title2))\n",
    "    print('Ajuste linear entre X3 e X4:')\n",
    "    print('Coeficiente linear:', b2)\n",
    "    print('Coeficiente angular:', a2)\n",
    "    print('-'*40)\n",
    "\n",
    "    fig = plt.figure(figsize=(12, 6))\n",
    "    plt.subplot(121)\n",
    "    plt.scatter(dados_x1, dados_y1, c='red', alpha=0.8)\n",
    "    plt.title(title1)\n",
    "    plt.xlabel(eixo_x1)\n",
    "    plt.ylabel(eixo_y1)\n",
    "\n",
    "    plt.plot((dados_x1.min(), dados_x1.max()), (a1*dados_x1.min()+b1, a1*dados_x1.max()+b1), color='blue')\n",
    "    \n",
    "    plt.subplot(122)\n",
    "    plt.scatter(dados_x2, dados_y2, c='red', alpha=0.8)\n",
    "    plt.title(title2)\n",
    "    plt.xlabel(eixo_x2)\n",
    "    plt.ylabel(eixo_y2)\n",
    "    \n",
    "    plt.plot((dados_x2.min(), dados_x2.max()), (a2*dados_x2.min()+b2, a2*dados_x2.max()+b2), color='blue')\n",
    "    \n",
    "    plt.tight_layout()\n",
    "    plt.show()\n",
    "    \n",
    "retas(df['2005_idh'],df['2005_alc'],'IDH','Álcool','IDH x Álcool',df['2005_idh'], df['2005_cig'],'IDH','Cigarro','IDH x Cigarro')"
   ]
  },
  {
   "cell_type": "markdown",
   "metadata": {},
   "source": [
    "Os gráficos na célula acima nos mostram que a dispersão é realmente positiva e ambas são muito parecidas, logo podemos assumir que influenciam o IDH quase que igualmente! O próximo passo é verificar a correlação entre o consumo de álcool e o consumo de cigarro, pois é importante saber o quanto essas variáveis \"andam\" juntas."
   ]
  },
  {
   "cell_type": "code",
   "execution_count": 13,
   "metadata": {},
   "outputs": [
    {
     "name": "stdout",
     "output_type": "stream",
     "text": [
      "\n",
      "Reta 1 (Álcool x Cigarro)\n",
      "Ajuste linear entre X3 e X4:\n",
      "Coeficiente linear: 16.986926745764087\n",
      "Coeficiente angular: 1.0649661687236667\n",
      "----------------------------------------\n"
     ]
    },
    {
     "data": {
      "image/png": "[encoded data removed]",
      "text/plain": [
       "<matplotlib.figure.Figure at 0xc82e470>"
      ]
     },
     "metadata": {},
     "output_type": "display_data"
    }
   ],
   "source": [
    "#Usando novamente a função do professor, mas dessa vez só para um gráfico!\n",
    "def reta(dados_x1, dados_y1, eixo_x1, eixo_y1, title1):\n",
    "    a1 = dados_y1.cov(dados_x1) / dados_x1.var()\n",
    "    b1 = dados_y1.mean() - a1*dados_x1.mean()\n",
    "    \n",
    "    print('Reta 1 ({0})'.format(title1))\n",
    "    print('Ajuste linear entre X3 e X4:')\n",
    "    print('Coeficiente linear:', b1)\n",
    "    print('Coeficiente angular:', a1)\n",
    "    print('-'*40)\n",
    "    \n",
    "    fig = plt.figure(figsize=(8, 8))\n",
    "    plt.scatter(dados_x1, dados_y1, c='red', alpha=0.8)\n",
    "    plt.title(title1)\n",
    "    plt.xlabel(eixo_x1)\n",
    "    plt.ylabel(eixo_y1)\n",
    "    plt.plot((dados_x1.min(), dados_x1.max()), (a1*dados_x1.min()+b1, a1*dados_x1.max()+b1), color='blue')\n",
    "    plt.tight_layout()\n",
    "    plt.show()\n",
    "\n",
    "print()\n",
    "reta(df['2005_alc'], df['2005_cig'], 'Álcool', 'Cigarro', 'Álcool x Cigarro')"
   ]
  },
  {
   "cell_type": "markdown",
   "metadata": {},
   "source": [
    "O gráfico de dispersão entre o consumo de Álcool e Cigarro nos mostra que eles tão muito relacionados um ao outro, o que já era esperado, isso só de comparar o coeficiente angular que obtivemos com o dos outros dois gráficos relacionando cada variável ao IDH. \n",
    "\n"
   ]
  },
  {
   "cell_type": "code",
   "execution_count": 38,
   "metadata": {},
   "outputs": [
    {
     "name": "stderr",
     "output_type": "stream",
     "text": [
      "c:\\users\\rafaa\\appdata\\local\\programs\\python\\python36-32\\lib\\site-packages\\numpy\\core\\_methods.py:29: RuntimeWarning: invalid value encountered in reduce\n",
      "  return umr_minimum(a, axis, None, out, keepdims)\n",
      "c:\\users\\rafaa\\appdata\\local\\programs\\python\\python36-32\\lib\\site-packages\\numpy\\core\\_methods.py:26: RuntimeWarning: invalid value encountered in reduce\n",
      "  return umr_maximum(a, axis, None, out, keepdims)\n"
     ]
    },
    {
     "ename": "ValueError",
     "evalue": "max must be larger than min in range parameter.",
     "output_type": "error",
     "traceback": [
      "\u001b[1;31m---------------------------------------------------------------------------\u001b[0m",
      "\u001b[1;31mValueError\u001b[0m                                Traceback (most recent call last)",
      "\u001b[1;32m<ipython-input-38-908e0745df77>\u001b[0m in \u001b[0;36m<module>\u001b[1;34m()\u001b[0m\n\u001b[0;32m     10\u001b[0m \u001b[1;33m\u001b[0m\u001b[0m\n\u001b[0;32m     11\u001b[0m \u001b[0mplt\u001b[0m\u001b[1;33m.\u001b[0m\u001b[0msubplot\u001b[0m\u001b[1;33m(\u001b[0m\u001b[1;36m222\u001b[0m\u001b[1;33m)\u001b[0m\u001b[1;33m\u001b[0m\u001b[0m\n\u001b[1;32m---> 12\u001b[1;33m \u001b[0mplt\u001b[0m\u001b[1;33m.\u001b[0m\u001b[0mhist\u001b[0m\u001b[1;33m(\u001b[0m\u001b[0mdf\u001b[0m\u001b[1;33m[\u001b[0m\u001b[1;34m'2005_idh'\u001b[0m\u001b[1;33m]\u001b[0m\u001b[1;33m,\u001b[0m \u001b[0mnormed\u001b[0m\u001b[1;33m=\u001b[0m\u001b[1;32mTrue\u001b[0m\u001b[1;33m,\u001b[0m \u001b[0mbins\u001b[0m\u001b[1;33m=\u001b[0m\u001b[0mnbins\u001b[0m\u001b[1;33m)\u001b[0m\u001b[1;33m\u001b[0m\u001b[0m\n\u001b[0m\u001b[0;32m     13\u001b[0m \u001b[0mplt\u001b[0m\u001b[1;33m.\u001b[0m\u001b[0mtitle\u001b[0m\u001b[1;33m(\u001b[0m\u001b[1;34m'IDH - Histograma'\u001b[0m\u001b[1;33m)\u001b[0m\u001b[1;33m\u001b[0m\u001b[0m\n\u001b[0;32m     14\u001b[0m \u001b[1;33m\u001b[0m\u001b[0m\n",
      "\u001b[1;32mc:\\users\\rafaa\\appdata\\local\\programs\\python\\python36-32\\lib\\site-packages\\matplotlib\\pyplot.py\u001b[0m in \u001b[0;36mhist\u001b[1;34m(x, bins, range, normed, weights, cumulative, bottom, histtype, align, orientation, rwidth, log, color, label, stacked, hold, data, **kwargs)\u001b[0m\n\u001b[0;32m   3080\u001b[0m                       \u001b[0mhisttype\u001b[0m\u001b[1;33m=\u001b[0m\u001b[0mhisttype\u001b[0m\u001b[1;33m,\u001b[0m \u001b[0malign\u001b[0m\u001b[1;33m=\u001b[0m\u001b[0malign\u001b[0m\u001b[1;33m,\u001b[0m \u001b[0morientation\u001b[0m\u001b[1;33m=\u001b[0m\u001b[0morientation\u001b[0m\u001b[1;33m,\u001b[0m\u001b[1;33m\u001b[0m\u001b[0m\n\u001b[0;32m   3081\u001b[0m                       \u001b[0mrwidth\u001b[0m\u001b[1;33m=\u001b[0m\u001b[0mrwidth\u001b[0m\u001b[1;33m,\u001b[0m \u001b[0mlog\u001b[0m\u001b[1;33m=\u001b[0m\u001b[0mlog\u001b[0m\u001b[1;33m,\u001b[0m \u001b[0mcolor\u001b[0m\u001b[1;33m=\u001b[0m\u001b[0mcolor\u001b[0m\u001b[1;33m,\u001b[0m \u001b[0mlabel\u001b[0m\u001b[1;33m=\u001b[0m\u001b[0mlabel\u001b[0m\u001b[1;33m,\u001b[0m\u001b[1;33m\u001b[0m\u001b[0m\n\u001b[1;32m-> 3082\u001b[1;33m                       stacked=stacked, data=data, **kwargs)\n\u001b[0m\u001b[0;32m   3083\u001b[0m     \u001b[1;32mfinally\u001b[0m\u001b[1;33m:\u001b[0m\u001b[1;33m\u001b[0m\u001b[0m\n\u001b[0;32m   3084\u001b[0m         \u001b[0max\u001b[0m\u001b[1;33m.\u001b[0m\u001b[0m_hold\u001b[0m \u001b[1;33m=\u001b[0m \u001b[0mwashold\u001b[0m\u001b[1;33m\u001b[0m\u001b[0m\n",
      "\u001b[1;32mc:\\users\\rafaa\\appdata\\local\\programs\\python\\python36-32\\lib\\site-packages\\matplotlib\\__init__.py\u001b[0m in \u001b[0;36minner\u001b[1;34m(ax, *args, **kwargs)\u001b[0m\n\u001b[0;32m   1890\u001b[0m                     warnings.warn(msg % (label_namer, func.__name__),\n\u001b[0;32m   1891\u001b[0m                                   RuntimeWarning, stacklevel=2)\n\u001b[1;32m-> 1892\u001b[1;33m             \u001b[1;32mreturn\u001b[0m \u001b[0mfunc\u001b[0m\u001b[1;33m(\u001b[0m\u001b[0max\u001b[0m\u001b[1;33m,\u001b[0m \u001b[1;33m*\u001b[0m\u001b[0margs\u001b[0m\u001b[1;33m,\u001b[0m \u001b[1;33m**\u001b[0m\u001b[0mkwargs\u001b[0m\u001b[1;33m)\u001b[0m\u001b[1;33m\u001b[0m\u001b[0m\n\u001b[0m\u001b[0;32m   1893\u001b[0m         \u001b[0mpre_doc\u001b[0m \u001b[1;33m=\u001b[0m \u001b[0minner\u001b[0m\u001b[1;33m.\u001b[0m\u001b[0m__doc__\u001b[0m\u001b[1;33m\u001b[0m\u001b[0m\n\u001b[0;32m   1894\u001b[0m         \u001b[1;32mif\u001b[0m \u001b[0mpre_doc\u001b[0m \u001b[1;32mis\u001b[0m \u001b[1;32mNone\u001b[0m\u001b[1;33m:\u001b[0m\u001b[1;33m\u001b[0m\u001b[0m\n",
      "\u001b[1;32mc:\\users\\rafaa\\appdata\\local\\programs\\python\\python36-32\\lib\\site-packages\\matplotlib\\axes\\_axes.py\u001b[0m in \u001b[0;36mhist\u001b[1;34m(self, x, bins, range, normed, weights, cumulative, bottom, histtype, align, orientation, rwidth, log, color, label, stacked, **kwargs)\u001b[0m\n\u001b[0;32m   6190\u001b[0m             \u001b[1;31m# this will automatically overwrite bins,\u001b[0m\u001b[1;33m\u001b[0m\u001b[1;33m\u001b[0m\u001b[0m\n\u001b[0;32m   6191\u001b[0m             \u001b[1;31m# so that each histogram uses the same bins\u001b[0m\u001b[1;33m\u001b[0m\u001b[1;33m\u001b[0m\u001b[0m\n\u001b[1;32m-> 6192\u001b[1;33m             \u001b[0mm\u001b[0m\u001b[1;33m,\u001b[0m \u001b[0mbins\u001b[0m \u001b[1;33m=\u001b[0m \u001b[0mnp\u001b[0m\u001b[1;33m.\u001b[0m\u001b[0mhistogram\u001b[0m\u001b[1;33m(\u001b[0m\u001b[0mx\u001b[0m\u001b[1;33m[\u001b[0m\u001b[0mi\u001b[0m\u001b[1;33m]\u001b[0m\u001b[1;33m,\u001b[0m \u001b[0mbins\u001b[0m\u001b[1;33m,\u001b[0m \u001b[0mweights\u001b[0m\u001b[1;33m=\u001b[0m\u001b[0mw\u001b[0m\u001b[1;33m[\u001b[0m\u001b[0mi\u001b[0m\u001b[1;33m]\u001b[0m\u001b[1;33m,\u001b[0m \u001b[1;33m**\u001b[0m\u001b[0mhist_kwargs\u001b[0m\u001b[1;33m)\u001b[0m\u001b[1;33m\u001b[0m\u001b[0m\n\u001b[0m\u001b[0;32m   6193\u001b[0m             \u001b[0mm\u001b[0m \u001b[1;33m=\u001b[0m \u001b[0mm\u001b[0m\u001b[1;33m.\u001b[0m\u001b[0mastype\u001b[0m\u001b[1;33m(\u001b[0m\u001b[0mfloat\u001b[0m\u001b[1;33m)\u001b[0m  \u001b[1;31m# causes problems later if it's an int\u001b[0m\u001b[1;33m\u001b[0m\u001b[0m\n\u001b[0;32m   6194\u001b[0m             \u001b[1;32mif\u001b[0m \u001b[0mmlast\u001b[0m \u001b[1;32mis\u001b[0m \u001b[1;32mNone\u001b[0m\u001b[1;33m:\u001b[0m\u001b[1;33m\u001b[0m\u001b[0m\n",
      "\u001b[1;32mc:\\users\\rafaa\\appdata\\local\\programs\\python\\python36-32\\lib\\site-packages\\numpy\\lib\\function_base.py\u001b[0m in \u001b[0;36mhistogram\u001b[1;34m(a, bins, range, normed, weights, density)\u001b[0m\n\u001b[0;32m    665\u001b[0m     \u001b[1;32mif\u001b[0m \u001b[0mfirst_edge\u001b[0m \u001b[1;33m>\u001b[0m \u001b[0mlast_edge\u001b[0m\u001b[1;33m:\u001b[0m\u001b[1;33m\u001b[0m\u001b[0m\n\u001b[0;32m    666\u001b[0m         raise ValueError(\n\u001b[1;32m--> 667\u001b[1;33m             'max must be larger than min in range parameter.')\n\u001b[0m\u001b[0;32m    668\u001b[0m     \u001b[1;32mif\u001b[0m \u001b[1;32mnot\u001b[0m \u001b[0mnp\u001b[0m\u001b[1;33m.\u001b[0m\u001b[0mall\u001b[0m\u001b[1;33m(\u001b[0m\u001b[0mnp\u001b[0m\u001b[1;33m.\u001b[0m\u001b[0misfinite\u001b[0m\u001b[1;33m(\u001b[0m\u001b[1;33m[\u001b[0m\u001b[0mfirst_edge\u001b[0m\u001b[1;33m,\u001b[0m \u001b[0mlast_edge\u001b[0m\u001b[1;33m]\u001b[0m\u001b[1;33m)\u001b[0m\u001b[1;33m)\u001b[0m\u001b[1;33m:\u001b[0m\u001b[1;33m\u001b[0m\u001b[0m\n\u001b[0;32m    669\u001b[0m         raise ValueError(\n",
      "\u001b[1;31mValueError\u001b[0m: max must be larger than min in range parameter."
     ]
    },
    {
     "data": {
      "image/png": "[encoded data removed]",
      "text/plain": [
       "<matplotlib.figure.Figure at 0xe23b3f0>"
      ]
     },
     "metadata": {},
     "output_type": "display_data"
    }
   ],
   "source": [
    "import math\n",
    "\n",
    "n=len(df)\n",
    "nbins=round(math.sqrt(n))\n",
    "fig=plt.figure(figsize=(8,6))\n",
    "\n",
    "plt.subplot(221)\n",
    "plt.hist(df['2005_GDP'], normed=True, bins=nbins)\n",
    "plt.title('PIB - Histograma')\n",
    "\n",
    "plt.subplot(222)\n",
    "plt.hist(df['2005_idh'], normed=True, bins=nbins)\n",
    "plt.title('IDH - Histograma')\n",
    "\n",
    "plt.subplot(223)\n",
    "plt.hist(df['2005_alc'], normed=True, bins=nbins)\n",
    "plt.title('Consumo de Álcool - Histograma')\n",
    "\n",
    "plt.subplot(224)\n",
    "plt.hist(df['2005_cig'], normed=True, bins=nbins)\n",
    "plt.title('Consumo de Cigarro - Histograma')\n",
    "\n",
    "plt.show()"
   ]
  },
  {
   "cell_type": "markdown",
   "metadata": {},
   "source": [
    "## Conclusão"
   ]
  },
  {
   "cell_type": "markdown",
   "metadata": {},
   "source": [
    "Voltando a questão inicial do projeto, o consumo de álcool e cigarro influenciam no IDH de um país? E o aumento do IDH causa uma queda no consumo de tais \"drogas\"?\n",
    "\n",
    "Ao analisar os dados percebemos que sim! O IDH é influenciado indiretamente pelo consumo de álcool e cigarro. Mas apesar disso, ele"
   ]
  },
  {
   "cell_type": "code",
   "execution_count": null,
   "metadata": {},
   "outputs": [],
   "source": []
  },
  {
   "cell_type": "code",
   "execution_count": null,
   "metadata": {},
   "outputs": [],
   "source": []
  },
  {
   "cell_type": "code",
   "execution_count": null,
   "metadata": {},
   "outputs": [],
   "source": []
  },
  {
   "cell_type": "code",
   "execution_count": null,
   "metadata": {},
   "outputs": [],
   "source": []
  },
  {
   "cell_type": "code",
   "execution_count": null,
   "metadata": {},
   "outputs": [],
   "source": []
  }
 ],
 "metadata": {
  "kernelspec": {
   "display_name": "Python 3",
   "language": "python",
   "name": "python3"
  },
  "language_info": {
   "codemirror_mode": {
    "name": "ipython",
    "version": 3
   },
   "file_extension": ".py",
   "mimetype": "text/x-python",
   "name": "python",
   "nbconvert_exporter": "python",
   "pygments_lexer": "ipython3",
   "version": "3.6.0"
  }
 },
 "nbformat": 4,
 "nbformat_minor": 2
}
